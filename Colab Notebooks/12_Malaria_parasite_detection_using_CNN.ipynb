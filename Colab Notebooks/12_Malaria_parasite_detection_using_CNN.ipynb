{
  "nbformat": 4,
  "nbformat_minor": 0,
  "metadata": {
    "colab": {
      "name": "12. Malaria parasite detection using CNN",
      "provenance": [],
      "collapsed_sections": []
    },
    "kernelspec": {
      "name": "python3",
      "display_name": "Python 3"
    },
    "accelerator": "TPU"
  },
  "cells": [
    {
      "cell_type": "code",
      "metadata": {
        "id": "ByDPXJxYTiF5"
      },
      "source": [
        "import tensorflow as tf\n",
        "from tensorflow.keras import Sequential\n",
        "from tensorflow.keras.layers import Conv2D,MaxPool2D,Dropout,Flatten,BatchNormalization,Dense\n",
        "from tensorflow.keras.optimizers import Adam"
      ],
      "execution_count": null,
      "outputs": []
    },
    {
      "cell_type": "code",
      "metadata": {
        "id": "o7lLZXmzTwMO"
      },
      "source": [
        "# Since we are working with image data , thus we are using ImageDataGenerator\n",
        "from tensorflow.keras.preprocessing.image import ImageDataGenerator"
      ],
      "execution_count": null,
      "outputs": []
    },
    {
      "cell_type": "code",
      "metadata": {
        "id": "oB3pDHVYU1v8"
      },
      "source": [
        "import numpy as np\n",
        "import matplotlib.pyplot as plt"
      ],
      "execution_count": null,
      "outputs": []
    },
    {
      "cell_type": "markdown",
      "metadata": {
        "id": "atpsEThdTnEr"
      },
      "source": [
        "Datasets link\n",
        "https://lhncbc.nlm.nih.gov/publication/pub9932"
      ]
    },
    {
      "cell_type": "code",
      "metadata": {
        "id": "spYd1VkmVAkX",
        "colab": {
          "base_uri": "https://localhost:8080/",
          "height": 121
        },
        "outputId": "3a476afc-0084-40ff-e317-90e2dcb61c7a"
      },
      "source": [
        "# Here we are cloning from github\n",
        "# because size of data is 337 \n",
        "# To download and upload it to drive it needs about 800MB\n",
        "# So we are cloning from github\n",
        "! git clone https://github.com/laxmimerit/Malaria-Classification-Using-CNN.git"
      ],
      "execution_count": null,
      "outputs": [
        {
          "output_type": "stream",
          "text": [
            "Cloning into 'Malaria-Classification-Using-CNN'...\n",
            "remote: Enumerating objects: 27577, done.\u001b[K\n",
            "remote: Total 27577 (delta 0), reused 0 (delta 0), pack-reused 27577\u001b[K\n",
            "Receiving objects: 100% (27577/27577), 331.67 MiB | 37.92 MiB/s, done.\n",
            "Resolving deltas: 100% (3/3), done.\n",
            "Checking out files: 100% (27562/27562), done.\n"
          ],
          "name": "stdout"
        }
      ]
    },
    {
      "cell_type": "code",
      "metadata": {
        "id": "xFeVs7FkVmxH"
      },
      "source": [
        "# Now in file section you can see malaria-dataset folder\n",
        "# where uninfected and parasitized(infected) malaria cell are given\n"
      ],
      "execution_count": null,
      "outputs": []
    },
    {
      "cell_type": "code",
      "metadata": {
        "id": "b_b36slkWd24"
      },
      "source": [
        "# Defining height and width for image to process in\n",
        "image_width = 64\n",
        "image_height = 64\n",
        "\n",
        "# According to the availability of resource you can also increase\n",
        "# image size"
      ],
      "execution_count": null,
      "outputs": []
    },
    {
      "cell_type": "code",
      "metadata": {
        "id": "tCSC8rmMWz7W"
      },
      "source": [
        "# We are rescaling image matrix elements from 0 to 1 using ImageDataGenerator\n",
        "\n",
        "# Generate batches of tensor image data with real-time data augmentation.\n",
        "datagen = ImageDataGenerator(rescale=1/255.0,validation_split=0.2)"
      ],
      "execution_count": null,
      "outputs": []
    },
    {
      "cell_type": "code",
      "metadata": {
        "id": "65QqXYRBXVXk",
        "colab": {
          "base_uri": "https://localhost:8080/",
          "height": 34
        },
        "outputId": "ca74ffdc-c778-4378-e90b-a6fe5c8877bf"
      },
      "source": [
        "train_data_generator = datagen.flow_from_directory(directory='/content/Malaria-Classification-Using-CNN/malaria-dataset',                           \n",
        "                    target_size =(image_width,image_height),\n",
        "                    class_mode='binary',\n",
        "                    batch_size = 16,\n",
        "                    subset = 'training')"
      ],
      "execution_count": null,
      "outputs": [
        {
          "output_type": "stream",
          "text": [
            "Found 22048 images belonging to 2 classes.\n"
          ],
          "name": "stdout"
        }
      ]
    },
    {
      "cell_type": "code",
      "metadata": {
        "id": "TeMP3KG9Yi6T",
        "colab": {
          "base_uri": "https://localhost:8080/",
          "height": 34
        },
        "outputId": "c880edb1-c806-4b1a-d017-4ed276fb7e0e"
      },
      "source": [
        "validation_data_generator = datagen.flow_from_directory(directory='/content/Malaria-Classification-Using-CNN/malaria-dataset',\n",
        "                                                        target_size= (image_width,image_height),\n",
        "                                                        class_mode = 'binary',\n",
        "                                                        batch_size = 16,\n",
        "                                                        subset = 'validation')"
      ],
      "execution_count": null,
      "outputs": [
        {
          "output_type": "stream",
          "text": [
            "Found 5510 images belonging to 2 classes.\n"
          ],
          "name": "stdout"
        }
      ]
    },
    {
      "cell_type": "code",
      "metadata": {
        "id": "apr8FgPsZK7R",
        "colab": {
          "base_uri": "https://localhost:8080/",
          "height": 34
        },
        "outputId": "8babce4a-8ed6-4b87-914a-afb5f258d2e8"
      },
      "source": [
        "train_data_generator.labels"
      ],
      "execution_count": null,
      "outputs": [
        {
          "output_type": "execute_result",
          "data": {
            "text/plain": [
              "array([0, 0, 0, ..., 1, 1, 1], dtype=int32)"
            ]
          },
          "metadata": {
            "tags": []
          },
          "execution_count": 15
        }
      ]
    },
    {
      "cell_type": "code",
      "metadata": {
        "id": "ft59CBazY-WQ",
        "colab": {
          "base_uri": "https://localhost:8080/",
          "height": 34
        },
        "outputId": "6abedd3d-5a2e-4bfa-fc1d-ba56c5029a14"
      },
      "source": [
        "validation_data_generator.labels"
      ],
      "execution_count": null,
      "outputs": [
        {
          "output_type": "execute_result",
          "data": {
            "text/plain": [
              "array([0, 0, 0, ..., 1, 1, 1], dtype=int32)"
            ]
          },
          "metadata": {
            "tags": []
          },
          "execution_count": 16
        }
      ]
    },
    {
      "cell_type": "code",
      "metadata": {
        "id": "5oPEU-C2Zl3R"
      },
      "source": [
        ""
      ],
      "execution_count": null,
      "outputs": []
    },
    {
      "cell_type": "markdown",
      "metadata": {
        "id": "nnUVExUIa9_l"
      },
      "source": [
        "###**Model Building using CNN**"
      ]
    },
    {
      "cell_type": "code",
      "metadata": {
        "id": "RfFqEaQ2bB4i"
      },
      "source": [
        "model = Sequential()\n",
        "model.add(Conv2D(16,(3,3),activation='relu',padding='same',input_shape= (image_width,image_height,3)))\n",
        "model.add(MaxPool2D(2,2))\n",
        "model.add(Dropout(0.2))\n",
        "\n",
        "model.add(Conv2D(32,(3,3),padding = 'same',activation='relu'))\n",
        "model.add(MaxPool2D(2,2))\n",
        "model.add(Dropout(0.3))\n",
        "\n",
        "model.add(Flatten())\n",
        "model.add(Dense(64,activation='relu'))\n",
        "model.add(Dropout(0.5))\n",
        "\n",
        "model.add(Dense(1,activation='sigmoid'))"
      ],
      "execution_count": null,
      "outputs": []
    },
    {
      "cell_type": "code",
      "metadata": {
        "id": "DmfC97F1cDbF",
        "colab": {
          "base_uri": "https://localhost:8080/",
          "height": 503
        },
        "outputId": "b57b44e1-68ab-4d54-cb61-e4b0473bf2ff"
      },
      "source": [
        "model.summary()"
      ],
      "execution_count": null,
      "outputs": [
        {
          "output_type": "stream",
          "text": [
            "Model: \"sequential_1\"\n",
            "_________________________________________________________________\n",
            "Layer (type)                 Output Shape              Param #   \n",
            "=================================================================\n",
            "conv2d_2 (Conv2D)            (None, 64, 64, 16)        448       \n",
            "_________________________________________________________________\n",
            "max_pooling2d_2 (MaxPooling2 (None, 32, 32, 16)        0         \n",
            "_________________________________________________________________\n",
            "dropout_2 (Dropout)          (None, 32, 32, 16)        0         \n",
            "_________________________________________________________________\n",
            "conv2d_3 (Conv2D)            (None, 32, 32, 32)        4640      \n",
            "_________________________________________________________________\n",
            "max_pooling2d_3 (MaxPooling2 (None, 16, 16, 32)        0         \n",
            "_________________________________________________________________\n",
            "dropout_3 (Dropout)          (None, 16, 16, 32)        0         \n",
            "_________________________________________________________________\n",
            "flatten (Flatten)            (None, 8192)              0         \n",
            "_________________________________________________________________\n",
            "dense (Dense)                (None, 64)                524352    \n",
            "_________________________________________________________________\n",
            "dropout_4 (Dropout)          (None, 64)                0         \n",
            "_________________________________________________________________\n",
            "dense_1 (Dense)              (None, 1)                 65        \n",
            "=================================================================\n",
            "Total params: 529,505\n",
            "Trainable params: 529,505\n",
            "Non-trainable params: 0\n",
            "_________________________________________________________________\n"
          ],
          "name": "stdout"
        }
      ]
    },
    {
      "cell_type": "code",
      "metadata": {
        "id": "sme6R_tjcLcs"
      },
      "source": [
        "model.compile(optimizer ='adam',loss='binary_crossentropy',metrics=['accuracy'])"
      ],
      "execution_count": null,
      "outputs": []
    },
    {
      "cell_type": "code",
      "metadata": {
        "id": "XTzCfKrUdRqM",
        "colab": {
          "base_uri": "https://localhost:8080/",
          "height": 34
        },
        "outputId": "2c3c5604-5868-4c77-9d4b-1c312f1cd8b1"
      },
      "source": [
        "len(train_data_generator),len(validation_data_generator)\n",
        "# Total training data i.e train_data_generator = batch_size * steps_per_epoch"
      ],
      "execution_count": null,
      "outputs": [
        {
          "output_type": "execute_result",
          "data": {
            "text/plain": [
              "(1378, 345)"
            ]
          },
          "metadata": {
            "tags": []
          },
          "execution_count": 24
        }
      ]
    },
    {
      "cell_type": "code",
      "metadata": {
        "id": "qeVjQJq3cfa_",
        "colab": {
          "base_uri": "https://localhost:8080/",
          "height": 436
        },
        "outputId": "fae1f36c-e3d5-4360-9832-7a513a11d075"
      },
      "source": [
        "# We are using fit_generator() method because we obtained data using\n",
        "# ImageDataGenerator()\n",
        "history = model.fit_generator(generator=train_data_generator,\n",
        "                              steps_per_epoch = len(train_data_generator),\n",
        "                              epochs = 10,\n",
        "                              validation_data = validation_data_generator,\n",
        "                              validation_steps = len(validation_data_generator))"
      ],
      "execution_count": null,
      "outputs": [
        {
          "output_type": "stream",
          "text": [
            "WARNING:tensorflow:From <ipython-input-25-6c58fe282e50>:7: Model.fit_generator (from tensorflow.python.keras.engine.training) is deprecated and will be removed in a future version.\n",
            "Instructions for updating:\n",
            "Please use Model.fit, which supports generators.\n",
            "Epoch 1/10\n",
            "1378/1378 [==============================] - 111s 81ms/step - loss: 0.4747 - accuracy: 0.7682 - val_loss: 0.2240 - val_accuracy: 0.9241\n",
            "Epoch 2/10\n",
            "1378/1378 [==============================] - 110s 80ms/step - loss: 0.2218 - accuracy: 0.9275 - val_loss: 0.1967 - val_accuracy: 0.9354\n",
            "Epoch 3/10\n",
            "1378/1378 [==============================] - 109s 79ms/step - loss: 0.1960 - accuracy: 0.9425 - val_loss: 0.1740 - val_accuracy: 0.9368\n",
            "Epoch 4/10\n",
            "1378/1378 [==============================] - 109s 79ms/step - loss: 0.1655 - accuracy: 0.9498 - val_loss: 0.1582 - val_accuracy: 0.9443\n",
            "Epoch 5/10\n",
            "1378/1378 [==============================] - 110s 80ms/step - loss: 0.1544 - accuracy: 0.9529 - val_loss: 0.1906 - val_accuracy: 0.9316\n",
            "Epoch 6/10\n",
            "1378/1378 [==============================] - 114s 83ms/step - loss: 0.1449 - accuracy: 0.9550 - val_loss: 0.1635 - val_accuracy: 0.9463\n",
            "Epoch 7/10\n",
            "1378/1378 [==============================] - 110s 80ms/step - loss: 0.1376 - accuracy: 0.9565 - val_loss: 0.1627 - val_accuracy: 0.9448\n",
            "Epoch 8/10\n",
            "1378/1378 [==============================] - 110s 80ms/step - loss: 0.1303 - accuracy: 0.9569 - val_loss: 0.1739 - val_accuracy: 0.9341\n",
            "Epoch 9/10\n",
            "1378/1378 [==============================] - 109s 79ms/step - loss: 0.1254 - accuracy: 0.9590 - val_loss: 0.1591 - val_accuracy: 0.9430\n",
            "Epoch 10/10\n",
            "1378/1378 [==============================] - 109s 79ms/step - loss: 0.1215 - accuracy: 0.9599 - val_loss: 0.1598 - val_accuracy: 0.9457\n"
          ],
          "name": "stdout"
        }
      ]
    },
    {
      "cell_type": "code",
      "metadata": {
        "id": "ySAExESUdfZL"
      },
      "source": [
        "def plot_learningCurve(history, epoch):\n",
        "  # Plot training & validation accuracy values\n",
        "  epoch_range = range(1, epoch+1)\n",
        "  plt.plot(epoch_range, history.history['accuracy'])\n",
        "  plt.plot(epoch_range, history.history['val_accuracy'])\n",
        "  plt.title('Model accuracy')\n",
        "  plt.ylabel('Accuracy')\n",
        "  plt.xlabel('Epoch')\n",
        "  plt.legend(['Train', 'Val'], loc='upper right')\n",
        "  plt.show()\n",
        "\n",
        "  # Plot training & validation loss values\n",
        "  plt.plot(epoch_range, history.history['loss'])\n",
        "  plt.plot(epoch_range, history.history['val_loss'])\n",
        "  plt.title('Model loss')\n",
        "  plt.ylabel('Loss')\n",
        "  plt.xlabel('Epoch')\n",
        "  plt.legend(['Train', 'Val'], loc='upper right')\n",
        "  plt.show()"
      ],
      "execution_count": null,
      "outputs": []
    },
    {
      "cell_type": "code",
      "metadata": {
        "id": "fP_RRQf2f9b3",
        "colab": {
          "base_uri": "https://localhost:8080/",
          "height": 573
        },
        "outputId": "86010278-406f-48d5-f2fe-c32ec42960cd"
      },
      "source": [
        "plot_learningCurve(history,10)"
      ],
      "execution_count": null,
      "outputs": [
        {
          "output_type": "display_data",
          "data": {
            "image/png": "[encoded data removed]",
            "text/plain": [
              "<Figure size 432x288 with 1 Axes>"
            ]
          },
          "metadata": {
            "tags": [],
            "needs_background": "light"
          }
        },
        {
          "output_type": "display_data",
          "data": {
            "image/png": "[encoded data removed]",
            "text/plain": [
              "<Figure size 432x288 with 1 Axes>"
            ]
          },
          "metadata": {
            "tags": [],
            "needs_background": "light"
          }
        }
      ]
    },
    {
      "cell_type": "code",
      "metadata": {
        "id": "H-Qfsq-Lh9w8"
      },
      "source": [
        ""
      ],
      "execution_count": null,
      "outputs": []
    }
  ]
}